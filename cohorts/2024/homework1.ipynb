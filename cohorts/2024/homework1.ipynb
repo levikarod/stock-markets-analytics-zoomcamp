{
 "cells": [
  {
   "cell_type": "code",
   "execution_count": 51,
   "metadata": {},
   "outputs": [
    {
     "name": "stdout",
     "output_type": "stream",
     "text": [
      "Requirement already satisfied: yfinance in c:\\users\\levi kassem\\documents\\code\\stock-markets-analytics-zoomcamp\\venv\\lib\\site-packages (0.2.38)\n",
      "Requirement already satisfied: pandas_datareader in c:\\users\\levi kassem\\documents\\code\\stock-markets-analytics-zoomcamp\\venv\\lib\\site-packages (0.10.0)\n",
      "Requirement already satisfied: plotly in c:\\users\\levi kassem\\documents\\code\\stock-markets-analytics-zoomcamp\\venv\\lib\\site-packages (5.21.0)\n",
      "Collecting matplotlib\n",
      "  Downloading matplotlib-3.8.4-cp310-cp310-win_amd64.whl (7.7 MB)\n",
      "     ---------------------------------------- 7.7/7.7 MB 25.7 MB/s eta 0:00:00\n",
      "Requirement already satisfied: numpy>=1.16.5 in c:\\users\\levi kassem\\documents\\code\\stock-markets-analytics-zoomcamp\\venv\\lib\\site-packages (from yfinance) (1.26.4)\n",
      "Requirement already satisfied: html5lib>=1.1 in c:\\users\\levi kassem\\documents\\code\\stock-markets-analytics-zoomcamp\\venv\\lib\\site-packages (from yfinance) (1.1)\n",
      "Requirement already satisfied: pytz>=2022.5 in c:\\users\\levi kassem\\documents\\code\\stock-markets-analytics-zoomcamp\\venv\\lib\\site-packages (from yfinance) (2024.1)\n",
      "Requirement already satisfied: lxml>=4.9.1 in c:\\users\\levi kassem\\documents\\code\\stock-markets-analytics-zoomcamp\\venv\\lib\\site-packages (from yfinance) (5.2.1)\n",
      "Requirement already satisfied: multitasking>=0.0.7 in c:\\users\\levi kassem\\documents\\code\\stock-markets-analytics-zoomcamp\\venv\\lib\\site-packages (from yfinance) (0.0.11)\n",
      "Requirement already satisfied: frozendict>=2.3.4 in c:\\users\\levi kassem\\documents\\code\\stock-markets-analytics-zoomcamp\\venv\\lib\\site-packages (from yfinance) (2.4.2)\n",
      "Requirement already satisfied: peewee>=3.16.2 in c:\\users\\levi kassem\\documents\\code\\stock-markets-analytics-zoomcamp\\venv\\lib\\site-packages (from yfinance) (3.17.3)\n",
      "Requirement already satisfied: requests>=2.31 in c:\\users\\levi kassem\\documents\\code\\stock-markets-analytics-zoomcamp\\venv\\lib\\site-packages (from yfinance) (2.31.0)\n",
      "Requirement already satisfied: pandas>=1.3.0 in c:\\users\\levi kassem\\documents\\code\\stock-markets-analytics-zoomcamp\\venv\\lib\\site-packages (from yfinance) (2.2.2)\n",
      "Requirement already satisfied: appdirs>=1.4.4 in c:\\users\\levi kassem\\documents\\code\\stock-markets-analytics-zoomcamp\\venv\\lib\\site-packages (from yfinance) (1.4.4)\n",
      "Requirement already satisfied: beautifulsoup4>=4.11.1 in c:\\users\\levi kassem\\documents\\code\\stock-markets-analytics-zoomcamp\\venv\\lib\\site-packages (from yfinance) (4.12.3)\n",
      "Requirement already satisfied: packaging in c:\\users\\levi kassem\\documents\\code\\stock-markets-analytics-zoomcamp\\venv\\lib\\site-packages (from plotly) (24.0)\n",
      "Requirement already satisfied: tenacity>=6.2.0 in c:\\users\\levi kassem\\documents\\code\\stock-markets-analytics-zoomcamp\\venv\\lib\\site-packages (from plotly) (8.2.3)\n",
      "Collecting contourpy>=1.0.1\n",
      "  Downloading contourpy-1.2.1-cp310-cp310-win_amd64.whl (187 kB)\n",
      "     ------------------------------------- 187.5/187.5 kB 11.8 MB/s eta 0:00:00\n",
      "Requirement already satisfied: python-dateutil>=2.7 in c:\\users\\levi kassem\\documents\\code\\stock-markets-analytics-zoomcamp\\venv\\lib\\site-packages (from matplotlib) (2.9.0.post0)\n",
      "Collecting kiwisolver>=1.3.1\n",
      "  Downloading kiwisolver-1.4.5-cp310-cp310-win_amd64.whl (56 kB)\n",
      "     ---------------------------------------- 56.1/56.1 kB ? eta 0:00:00\n",
      "Collecting pyparsing>=2.3.1\n",
      "  Downloading pyparsing-3.1.2-py3-none-any.whl (103 kB)\n",
      "     ---------------------------------------- 103.2/103.2 kB ? eta 0:00:00\n",
      "Collecting pillow>=8\n",
      "  Using cached pillow-10.3.0-cp310-cp310-win_amd64.whl (2.5 MB)\n",
      "Collecting fonttools>=4.22.0\n",
      "  Downloading fonttools-4.51.0-cp310-cp310-win_amd64.whl (2.2 MB)\n",
      "     ---------------------------------------- 2.2/2.2 MB 46.3 MB/s eta 0:00:00\n",
      "Collecting cycler>=0.10\n",
      "  Downloading cycler-0.12.1-py3-none-any.whl (8.3 kB)\n",
      "Requirement already satisfied: soupsieve>1.2 in c:\\users\\levi kassem\\documents\\code\\stock-markets-analytics-zoomcamp\\venv\\lib\\site-packages (from beautifulsoup4>=4.11.1->yfinance) (2.5)\n",
      "Requirement already satisfied: webencodings in c:\\users\\levi kassem\\documents\\code\\stock-markets-analytics-zoomcamp\\venv\\lib\\site-packages (from html5lib>=1.1->yfinance) (0.5.1)\n",
      "Requirement already satisfied: six>=1.9 in c:\\users\\levi kassem\\documents\\code\\stock-markets-analytics-zoomcamp\\venv\\lib\\site-packages (from html5lib>=1.1->yfinance) (1.16.0)\n",
      "Requirement already satisfied: tzdata>=2022.7 in c:\\users\\levi kassem\\documents\\code\\stock-markets-analytics-zoomcamp\\venv\\lib\\site-packages (from pandas>=1.3.0->yfinance) (2024.1)\n",
      "Requirement already satisfied: idna<4,>=2.5 in c:\\users\\levi kassem\\documents\\code\\stock-markets-analytics-zoomcamp\\venv\\lib\\site-packages (from requests>=2.31->yfinance) (3.7)\n",
      "Requirement already satisfied: certifi>=2017.4.17 in c:\\users\\levi kassem\\documents\\code\\stock-markets-analytics-zoomcamp\\venv\\lib\\site-packages (from requests>=2.31->yfinance) (2024.2.2)\n",
      "Requirement already satisfied: charset-normalizer<4,>=2 in c:\\users\\levi kassem\\documents\\code\\stock-markets-analytics-zoomcamp\\venv\\lib\\site-packages (from requests>=2.31->yfinance) (3.3.2)\n",
      "Requirement already satisfied: urllib3<3,>=1.21.1 in c:\\users\\levi kassem\\documents\\code\\stock-markets-analytics-zoomcamp\\venv\\lib\\site-packages (from requests>=2.31->yfinance) (2.2.1)\n",
      "Installing collected packages: pyparsing, pillow, kiwisolver, fonttools, cycler, contourpy, matplotlib\n",
      "Successfully installed contourpy-1.2.1 cycler-0.12.1 fonttools-4.51.0 kiwisolver-1.4.5 matplotlib-3.8.4 pillow-10.3.0 pyparsing-3.1.2\n"
     ]
    },
    {
     "name": "stderr",
     "output_type": "stream",
     "text": [
      "\n",
      "[notice] A new release of pip available: 22.3.1 -> 24.0\n",
      "[notice] To update, run: python.exe -m pip install --upgrade pip\n"
     ]
    }
   ],
   "source": [
    "!pip install yfinance pandas_datareader plotly matplotlib"
   ]
  },
  {
   "cell_type": "markdown",
   "metadata": {},
   "source": [
    "# 1) Question 1: [Macro] Average growth of GDP in 2023"
   ]
  },
  {
   "cell_type": "code",
   "execution_count": 1,
   "metadata": {},
   "outputs": [],
   "source": [
    "# IMPORTS\n",
    "import numpy as np\n",
    "import pandas as pd\n",
    "\n",
    "#Fin Data Sources\n",
    "import yfinance as yf\n",
    "import pandas_datareader as pdr\n",
    "\n",
    "#Data viz\n",
    "import plotly.graph_objs as go\n",
    "import plotly.express as px\n",
    "\n",
    "import time\n",
    "from datetime import date"
   ]
  },
  {
   "cell_type": "code",
   "execution_count": 23,
   "metadata": {},
   "outputs": [],
   "source": [
    "GDPC1 = pd.read_csv('data\\GDPC1.csv')"
   ]
  },
  {
   "cell_type": "code",
   "execution_count": 24,
   "metadata": {},
   "outputs": [
    {
     "data": {
      "text/html": [
       "<div>\n",
       "<style scoped>\n",
       "    .dataframe tbody tr th:only-of-type {\n",
       "        vertical-align: middle;\n",
       "    }\n",
       "\n",
       "    .dataframe tbody tr th {\n",
       "        vertical-align: top;\n",
       "    }\n",
       "\n",
       "    .dataframe thead th {\n",
       "        text-align: right;\n",
       "    }\n",
       "</style>\n",
       "<table border=\"1\" class=\"dataframe\">\n",
       "  <thead>\n",
       "    <tr style=\"text-align: right;\">\n",
       "      <th></th>\n",
       "      <th>DATE</th>\n",
       "      <th>GDPC1</th>\n",
       "      <th>gdp_us_yoy</th>\n",
       "      <th>gdp_yoy_mean</th>\n",
       "    </tr>\n",
       "  </thead>\n",
       "  <tbody>\n",
       "    <tr>\n",
       "      <th>303</th>\n",
       "      <td>2022-10-01</td>\n",
       "      <td>21989.981</td>\n",
       "      <td>0.651692</td>\n",
       "      <td>2.0</td>\n",
       "    </tr>\n",
       "    <tr>\n",
       "      <th>304</th>\n",
       "      <td>2023-01-01</td>\n",
       "      <td>22112.329</td>\n",
       "      <td>1.717927</td>\n",
       "      <td>1.5</td>\n",
       "    </tr>\n",
       "    <tr>\n",
       "      <th>305</th>\n",
       "      <td>2023-04-01</td>\n",
       "      <td>22225.350</td>\n",
       "      <td>2.382468</td>\n",
       "      <td>1.6</td>\n",
       "    </tr>\n",
       "    <tr>\n",
       "      <th>306</th>\n",
       "      <td>2023-07-01</td>\n",
       "      <td>22490.692</td>\n",
       "      <td>2.926887</td>\n",
       "      <td>1.9</td>\n",
       "    </tr>\n",
       "    <tr>\n",
       "      <th>307</th>\n",
       "      <td>2023-10-01</td>\n",
       "      <td>22679.255</td>\n",
       "      <td>3.134491</td>\n",
       "      <td>2.5</td>\n",
       "    </tr>\n",
       "  </tbody>\n",
       "</table>\n",
       "</div>"
      ],
      "text/plain": [
       "           DATE      GDPC1  gdp_us_yoy  gdp_yoy_mean\n",
       "303  2022-10-01  21989.981    0.651692           2.0\n",
       "304  2023-01-01  22112.329    1.717927           1.5\n",
       "305  2023-04-01  22225.350    2.382468           1.6\n",
       "306  2023-07-01  22490.692    2.926887           1.9\n",
       "307  2023-10-01  22679.255    3.134491           2.5"
      ]
     },
     "execution_count": 24,
     "metadata": {},
     "output_type": "execute_result"
    }
   ],
   "source": [
    "GDPC1['gdp_us_yoy'] = (GDPC1.GDPC1/GDPC1.GDPC1.shift(4)-1)*100 #Part 1\n",
    "GDPC1['gdp_yoy_mean'] = round(GDPC1['gdp_us_yoy'].rolling(4).mean(), 1) # part 2 = 2.5\n",
    "\n",
    "GDPC1.tail()\n"
   ]
  },
  {
   "cell_type": "markdown",
   "metadata": {},
   "source": [
    "# Question 2. [Macro] Inverse \"Treasury Yield\""
   ]
  },
  {
   "cell_type": "code",
   "execution_count": 38,
   "metadata": {},
   "outputs": [],
   "source": [
    "DGS2 = pd.read_csv('data\\DGS2.csv')\n",
    "DGS10 = pd.read_csv('data\\DGS10.csv')"
   ]
  },
  {
   "cell_type": "code",
   "execution_count": 49,
   "metadata": {},
   "outputs": [
    {
     "name": "stdout",
     "output_type": "stream",
     "text": [
      "-1.1\n"
     ]
    },
    {
     "data": {
      "text/html": [
       "<div>\n",
       "<style scoped>\n",
       "    .dataframe tbody tr th:only-of-type {\n",
       "        vertical-align: middle;\n",
       "    }\n",
       "\n",
       "    .dataframe tbody tr th {\n",
       "        vertical-align: top;\n",
       "    }\n",
       "\n",
       "    .dataframe thead th {\n",
       "        text-align: right;\n",
       "    }\n",
       "</style>\n",
       "<table border=\"1\" class=\"dataframe\">\n",
       "  <thead>\n",
       "    <tr style=\"text-align: right;\">\n",
       "      <th></th>\n",
       "      <th>DATE</th>\n",
       "      <th>DGS2</th>\n",
       "      <th>DGS10</th>\n",
       "      <th>DGS_DIFF</th>\n",
       "    </tr>\n",
       "  </thead>\n",
       "  <tbody>\n",
       "    <tr>\n",
       "      <th>6073</th>\n",
       "      <td>2024-04-12</td>\n",
       "      <td>4.88</td>\n",
       "      <td>4.50</td>\n",
       "      <td>-0.38</td>\n",
       "    </tr>\n",
       "    <tr>\n",
       "      <th>6074</th>\n",
       "      <td>2024-04-15</td>\n",
       "      <td>4.93</td>\n",
       "      <td>4.63</td>\n",
       "      <td>-0.30</td>\n",
       "    </tr>\n",
       "    <tr>\n",
       "      <th>6075</th>\n",
       "      <td>2024-04-16</td>\n",
       "      <td>4.97</td>\n",
       "      <td>4.67</td>\n",
       "      <td>-0.30</td>\n",
       "    </tr>\n",
       "    <tr>\n",
       "      <th>6076</th>\n",
       "      <td>2024-04-17</td>\n",
       "      <td>4.93</td>\n",
       "      <td>4.59</td>\n",
       "      <td>-0.34</td>\n",
       "    </tr>\n",
       "    <tr>\n",
       "      <th>6077</th>\n",
       "      <td>2024-04-18</td>\n",
       "      <td>4.98</td>\n",
       "      <td>4.64</td>\n",
       "      <td>-0.34</td>\n",
       "    </tr>\n",
       "  </tbody>\n",
       "</table>\n",
       "</div>"
      ],
      "text/plain": [
       "            DATE  DGS2  DGS10  DGS_DIFF\n",
       "6073  2024-04-12  4.88   4.50     -0.38\n",
       "6074  2024-04-15  4.93   4.63     -0.30\n",
       "6075  2024-04-16  4.97   4.67     -0.30\n",
       "6076  2024-04-17  4.93   4.59     -0.34\n",
       "6077  2024-04-18  4.98   4.64     -0.34"
      ]
     },
     "execution_count": 49,
     "metadata": {},
     "output_type": "execute_result"
    }
   ],
   "source": [
    "merged_df = pd.merge(DGS2, DGS10, on='DATE')\n",
    "# Convert columns to numeric\n",
    "merged_df['DGS2'] = pd.to_numeric(merged_df['DGS2'], errors='coerce')\n",
    "merged_df['DGS10'] = pd.to_numeric(merged_df['DGS10'], errors='coerce')\n",
    "\n",
    "# Filter out rows that are not formatted as float\n",
    "merged_df = merged_df[(merged_df['DGS2'].notnull()) & (merged_df['DGS10'].notnull())]\n",
    "# Reset the index\n",
    "merged_df.reset_index(drop=True, inplace=True)\n",
    "merged_df['DGS_DIFF'] = (merged_df.DGS10-merged_df.DGS2)\n",
    "lowest_dgs_diff = round(merged_df['DGS_DIFF'].min(),1)\n",
    "print(lowest_dgs_diff) # -1.1\n",
    "merged_df.tail()\n",
    "\n",
    "# merged_df.to_csv(\"TEST.csv\")"
   ]
  },
  {
   "cell_type": "markdown",
   "metadata": {},
   "source": [
    "# Question 3. [Index] Which Index is better recently?"
   ]
  },
  {
   "cell_type": "code",
   "execution_count": 71,
   "metadata": {},
   "outputs": [
    {
     "name": "stderr",
     "output_type": "stream",
     "text": [
      "[*********************100%%**********************]  1 of 1 completed\n",
      "[*********************100%%**********************]  1 of 1 completed\n"
     ]
    }
   ],
   "source": [
    "# INDEXES from Yahoo Finance\n",
    "# WEB: https://finance.yahoo.com/quote/%5EMXX/\n",
    "SP500 = yf.download(tickers = \"^MXX\",\n",
    "                     period = \"max\",\n",
    "                     interval = \"1d\")\n",
    "# WEB: https://finance.yahoo.com/quote/%5EGSPC/\n",
    "IPCMEXICO = yf.download(tickers = \"^GSPC\",\n",
    "                     period = \"max\",\n",
    "                     interval = \"1d\")"
   ]
  },
  {
   "cell_type": "code",
   "execution_count": 75,
   "metadata": {},
   "outputs": [
    {
     "data": {
      "text/plain": [
       "('IPCMEXICO', 81.0)"
      ]
     },
     "execution_count": 75,
     "metadata": {},
     "output_type": "execute_result"
    }
   ],
   "source": [
    "# Calculate the percentage growth for SP500\n",
    "# print(SP500)\n",
    "sp500_growth = ((SP500['Close'].loc['2024-04-09'] - SP500['Close'].loc['2019-04-09']) / SP500['Close'].loc['2019-04-09']) * 100\n",
    "\n",
    "# Calculate the percentage growth for IPCMEXICO\n",
    "# print(IPCMEXICO['Adj Close'].loc['2024-04-09'])\n",
    "ipcmexico_growth = ((IPCMEXICO['Adj Close'].loc['2024-04-09'] - IPCMEXICO['Adj Close'].loc['2019-04-09']) / IPCMEXICO['Adj Close'].loc['2019-04-09']) * 100\n",
    "\n",
    "# Compare the growth and select the higher growing index\n",
    "if sp500_growth > ipcmexico_growth:\n",
    "    higher_growing_index = 'SP500'\n",
    "    growth_percentage = round(sp500_growth,1 )\n",
    "else:\n",
    "    higher_growing_index = 'IPCMEXICO'\n",
    "    growth_percentage = round(ipcmexico_growth,1)\n",
    "\n",
    "higher_growing_index, growth_percentage"
   ]
  },
  {
   "cell_type": "markdown",
   "metadata": {},
   "source": [
    "# Question 4. [Stocks OHLCV] 52-weeks range ratio (2023) for the selected stocks"
   ]
  },
  {
   "cell_type": "code",
   "execution_count": 77,
   "metadata": {},
   "outputs": [
    {
     "name": "stderr",
     "output_type": "stream",
     "text": [
      "[*********************100%%**********************]  1 of 1 completed\n",
      "[*********************100%%**********************]  1 of 1 completed\n",
      "[*********************100%%**********************]  1 of 1 completed\n",
      "[*********************100%%**********************]  1 of 1 completed\n",
      "[*********************100%%**********************]  1 of 1 completed\n",
      "[*********************100%%**********************]  1 of 1 completed\n"
     ]
    }
   ],
   "source": [
    "SR = yf.download(tickers = \"2222.SR\",\n",
    "                     period = \"max\",\n",
    "                     interval = \"1d\")\n",
    "BRKB = yf.download(tickers = \"BRK-B\",\n",
    "                     period = \"max\",\n",
    "                     interval = \"1d\")\n",
    "AAPL = yf.download(tickers = \"AAPL\",\n",
    "                     period = \"max\",\n",
    "                     interval = \"1d\")\n",
    "MSFT = yf.download(tickers = \"MSFT\",\n",
    "                     period = \"max\",\n",
    "                     interval = \"1d\")\n",
    "GOOG = yf.download(tickers = \"GOOG\",\n",
    "                     period = \"max\",\n",
    "                     interval = \"1d\")\n",
    "JPM = yf.download(tickers = \"JPM\",\n",
    "                     period = \"max\",\n",
    "                     interval = \"1d\")"
   ]
  },
  {
   "cell_type": "code",
   "execution_count": 86,
   "metadata": {},
   "outputs": [
    {
     "name": "stdout",
     "output_type": "stream",
     "text": [
      "AAPL_largest 0.37244419224463476\n",
      "BRKB_largest 0.20775750091289963\n",
      "GOOG_largest 0.3924520921912013\n",
      "SR_largest 0.21393070882746015\n",
      "JPM_largest 0.28249929679343244\n",
      "MSFT_largest 0.4242066914981641\n"
     ]
    }
   ],
   "source": [
    "# Filter AAPL DataFrame\n",
    "AAPL = AAPL.loc[AAPL.index.year == 2023]\n",
    "AAPL_largest =(AAPL['Adj Close'].max()-AAPL['Adj Close'].min())/AAPL['Adj Close'].max()\n",
    "print(\"AAPL_largest\", AAPL_largest)\n",
    "\n",
    "# Filter BRKB DataFrame\n",
    "BRKB = BRKB.loc[BRKB.index.year == 2023]\n",
    "BRKB_largest =(BRKB['Adj Close'].max()-BRKB['Adj Close'].min())/BRKB['Adj Close'].max()\n",
    "print(\"BRKB_largest\", BRKB_largest)\n",
    "\n",
    "# Filter GOOG DataFrame\n",
    "GOOG = GOOG.loc[GOOG.index.year == 2023]\n",
    "GOOG_largest =(GOOG['Adj Close'].max()-GOOG['Adj Close'].min())/GOOG['Adj Close'].max()\n",
    "print(\"GOOG_largest\", GOOG_largest)\n",
    "\n",
    "# Filter SR DataFrame\n",
    "SR = SR.loc[SR.index.year == 2023]\n",
    "SR_largest =(SR['Adj Close'].max()-SR['Adj Close'].min())/SR['Adj Close'].max()\n",
    "print(\"SR_largest\", SR_largest)\n",
    "\n",
    "# Filter JPM DataFrame\n",
    "JPM = JPM.loc[JPM.index.year == 2023]\n",
    "JPM_largest =(JPM['Adj Close'].max()-JPM['Adj Close'].min())/JPM['Adj Close'].max()\n",
    "print(\"JPM_largest\", JPM_largest)\n",
    "\n",
    "# Filter MSFT DataFrame\n",
    "MSFT = MSFT.loc[MSFT.index.year == 2023]\n",
    "MSFT_largest =(MSFT['Adj Close'].max()-MSFT['Adj Close'].min())/MSFT['Adj Close'].max()\n",
    "print(\"MSFT_largest\", MSFT_largest) # 0.42 Largest\n",
    "\n"
   ]
  },
  {
   "cell_type": "markdown",
   "metadata": {},
   "source": [
    "# Question 5. [Stocks] Dividend Yield"
   ]
  },
  {
   "cell_type": "code",
   "execution_count": 104,
   "metadata": {},
   "outputs": [],
   "source": [
    "SRDivs = yf.Ticker(\"2222.SR\")\n",
    "SRDivs = SRDivs.get_actions()\n",
    "BRKBDivs = yf.Ticker(\"BRK-B\")\n",
    "BRKBDivs = BRKBDivs.get_actions()\n",
    "AAPLDivs = yf.Ticker(\"AAPL\")\n",
    "AAPLDivs = AAPLDivs.get_actions()\n",
    "MSFTDivs = yf.Ticker(\"MSFT\")\n",
    "MSFTDivs = MSFTDivs.get_actions()\n",
    "GOOGDivs = yf.Ticker(\"GOOG\")\n",
    "GOOGDivs = GOOGDivs.get_actions()\n",
    "JPMDivs = yf.Ticker(\"JPM\")\n",
    "JPMDivs = JPMDivs.get_actions()"
   ]
  },
  {
   "cell_type": "code",
   "execution_count": 107,
   "metadata": {},
   "outputs": [
    {
     "name": "stdout",
     "output_type": "stream",
     "text": [
      "SR_yield 2.7743470474138237\n",
      "BRKB_yield 0.2553591629699064\n",
      "GOOG_yield 0.0\n",
      "AAPL_yield 0.4940592304162832\n",
      "JPM_yield 2.4096079718909573\n",
      "MSFT_yield 0.7433143940964608\n"
     ]
    }
   ],
   "source": [
    "# Filter SR DataFrame\n",
    "SRDivs = SRDivs.loc[SRDivs.index.year == 2023]\n",
    "SR_Divs_paid = SRDivs['Dividends'].sum()\n",
    "SR_last_OHLC = SR.iloc[-1]\n",
    "SR_largest_yield = SR_Divs_paid / SR_last_OHLC['Adj Close'] * 100\n",
    "print(\"SR_yield\", SR_largest_yield)\n",
    "\n",
    "# Filter BRKB DataFrame\n",
    "BRKBDivs = BRKBDivs.loc[BRKBDivs.index.year == 2023]\n",
    "BRKB_Divs_paid = SRDivs['Dividends'].sum()\n",
    "BRKB_last_OHLC = BRKB.iloc[-1]\n",
    "BRKB_largest_yield = BRKB_Divs_paid / BRKB_last_OHLC['Adj Close'] * 100\n",
    "print(\"BRKB_yield\", BRKB_largest_yield)\n",
    "\n",
    "# Filter GOOG DataFrame\n",
    "GOOGDivs = GOOGDivs.loc[GOOGDivs.index.year == 2023]\n",
    "GOOG_Divs_paid = GOOGDivs['Dividends'].sum()\n",
    "GOOG_last_OHLC = GOOG.iloc[-1]\n",
    "GOOG_largest_yield = GOOG_Divs_paid / GOOG_last_OHLC['Adj Close'] * 100\n",
    "print(\"GOOG_yield\", GOOG_largest_yield) \n",
    "\n",
    "# Filter AAPL DataFrame\n",
    "AAPLDivs = AAPLDivs.loc[AAPLDivs.index.year == 2023]\n",
    "AAPL_Divs_paid = AAPLDivs['Dividends'].sum()\n",
    "AAPL_last_OHLC = AAPL.iloc[-1]\n",
    "AAPL_largest_yield = AAPL_Divs_paid / AAPL_last_OHLC['Adj Close'] * 100\n",
    "print(\"AAPL_yield\", AAPL_largest_yield)\n",
    "\n",
    "# Filter JPM DataFrame\n",
    "JPMDivs = JPMDivs.loc[JPMDivs.index.year == 2023]\n",
    "JPM_Divs_paid = JPMDivs['Dividends'].sum()\n",
    "JPM_last_OHLC = JPM.iloc[-1]\n",
    "JPM_largest_yield = JPM_Divs_paid / JPM_last_OHLC['Adj Close'] * 100\n",
    "print(\"JPM_yield\", JPM_largest_yield)\n",
    "\n",
    "# Filter JPM DataFrame\n",
    "MSFTDivs = MSFTDivs.loc[MSFTDivs.index.year == 2023]\n",
    "MSFT_Divs_paid = MSFTDivs['Dividends'].sum()\n",
    "MSFT_last_OHLC = MSFT.iloc[-1]\n",
    "MSFT_largest_yield = MSFT_Divs_paid / MSFT_last_OHLC['Adj Close'] \n",
    "print(\"MSFT_yield\", MSFT_largest_yield)"
   ]
  },
  {
   "cell_type": "markdown",
   "metadata": {},
   "source": [
    "# Question 6. [Exploratory] Investigate new metrics"
   ]
  },
  {
   "cell_type": "markdown",
   "metadata": {},
   "source": [
    "Alpha:\n",
    "Would help assess whether a strategy has outperformed or underperformed relative to a benchmark, taking into account the strategy's risk.\n",
    "\n",
    "Sharpe Ratio:\n",
    "Would help compare the returns of different strategies while considering the level of risk taken.\n"
   ]
  },
  {
   "cell_type": "markdown",
   "metadata": {},
   "source": [
    "# Question 7. [Exploratory] Time-driven strategy description around earnings releases"
   ]
  },
  {
   "cell_type": "markdown",
   "metadata": {},
   "source": [
    "What is \"future events data\"?\n",
    "\n",
    "Would do a analysis on the following elements on a set of stocks to benchmark them:\n",
    "- How close is the next earnings release / how long was the last earnings release.\n",
    "- Average stock price movement before/after earnings.\n",
    "- Volatility before/after earnings.\n",
    "- Historical earnings surprise (actual earnings vs. predicted estimates).\n",
    "\n",
    "Would have to investigate how to calculate volatility."
   ]
  }
 ],
 "metadata": {
  "kernelspec": {
   "display_name": "venv",
   "language": "python",
   "name": "python3"
  },
  "language_info": {
   "codemirror_mode": {
    "name": "ipython",
    "version": 3
   },
   "file_extension": ".py",
   "mimetype": "text/x-python",
   "name": "python",
   "nbconvert_exporter": "python",
   "pygments_lexer": "ipython3",
   "version": "3.10.10"
  }
 },
 "nbformat": 4,
 "nbformat_minor": 2
}
